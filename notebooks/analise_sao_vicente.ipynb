{
 "cells": [
  {
   "cell_type": "code",
   "execution_count": null,
   "id": "0214bf99",
   "metadata": {
    "vscode": {
     "languageId": "plaintext"
    }
   },
   "outputs": [],
   "source": [
    "# Recarregar bibliotecas após reset\n",
    "import pandas as pd\n",
    "import random\n",
    "from faker import Faker\n",
    "\n",
    "fake = Faker(\"pt_BR\")\n",
    "random.seed(42)\n",
    "\n",
    "# Serviços reais da zeladoria\n",
    "servicos = [\n",
    "    \"Cata Treco/ Entulho\",\n",
    "    \"Hidrojato, boca de lobo, poda de arvore\",\n",
    "    \"Iluminação Pública\",\n",
    "    \"Nivelamento de piso sextavado\",\n",
    "    \"Reposição de tampas e grelhas das galerias de águas pluviais\",\n",
    "    \"Roçagem e Raspação\",\n",
    "    \"Tapa Buraco\"\n",
    "]\n",
    "\n",
    "# 20 bairros reais de São Vicente - 10 insulares e 10 continentais (exemplos reais)\n",
    "bairros_insulares = [\n",
    "    \"Centro\", \"Itararé\", \"Boa Vista\", \"Jardim Independência\", \"Gonzaguinha\",\n",
    "    \"Jardim Guassu\", \"Esplanada dos Barreiros\", \"Catiapoã\", \"Vila Melo\", \"Jardim Guaçu\"\n",
    "]\n",
    "bairros_continentais = [\n",
    "    \"Jardim Rio Branco\", \"Jardim Irmã Dolores\", \"Parque Continental\", \"Vila Margarida\", \"Samambaia\",\n",
    "    \"Vila Ema\", \"Nova São Vicente\", \"Vila São Jorge\", \"Jardim São Manoel\", \"Tancredo Neves\"\n",
    "]\n",
    "bairros = bairros_insulares + bairros_continentais\n",
    "\n",
    "# Gerar os dados simulados\n",
    "num_registros = 100\n",
    "dados = []\n",
    "\n",
    "for _ in range(num_registros):\n",
    "    nome = fake.name()\n",
    "    bairro = random.choice(bairros)\n",
    "    data = fake.date_between(start_date='-5M', end_date='today')\n",
    "    servico = random.choice(servicos)\n",
    "    dados.append([nome, bairro, data, servico])\n",
    "\n",
    "# Criar DataFrame\n",
    "df = pd.DataFrame(dados, columns=[\"Nome do Solicitante\", \"Bairro\", \"Data\", \"Serviço\"])\n",
    "\n",
    "# Salvar CSV\n",
    "caminho_csv = \"/mnt/data/solicitacoes_zeladoria_sao_vicente.csv\"\n",
    "df.to_csv(caminho_csv, index=False)\n",
    "caminho_csv\n"
   ]
  }
 ],
 "metadata": {
  "language_info": {
   "name": "python"
  }
 },
 "nbformat": 4,
 "nbformat_minor": 5
}
